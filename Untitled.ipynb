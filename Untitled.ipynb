{
 "cells": [
  {
   "cell_type": "code",
   "execution_count": 1,
   "metadata": {
    "collapsed": true
   },
   "outputs": [],
   "source": [
    "import h5py\n",
    "import numpy as np\n",
    "from matplotlib import pyplot as plt"
   ]
  },
  {
   "cell_type": "code",
   "execution_count": 12,
   "metadata": {
    "collapsed": false
   },
   "outputs": [
    {
     "name": "stdout",
     "output_type": "stream",
     "text": [
      "sample datapoints\n",
      "B\n",
      "B\n",
      "Tomo_1_B_150113_1 (1).h5\n",
      "0\n",
      "1.41046\n",
      "1.33104\n"
     ]
    }
   ],
   "source": [
    "with h5py.File('dataset.h5', 'r') as hf:\n",
    "    for data_num in hf:\n",
    "        label = hf[data_num]['data'].attrs['label']\n",
    "        original_name = hf[data_num]['data'].attrs['original_name']\n",
    "        id = hf[data_num]['data'].attrs['id']\n",
    "    \n",
    "    print('sample datapoints')\n",
    "    data = np.array(hf['0']['data'])\n",
    "    print(label)\n",
    "    print(hf['0']['data'].attrs['label'])\n",
    "    print(hf['0']['data'].attrs['original_name'])\n",
    "    print(hf['0']['data'].attrs['id'])\n",
    "    print(np.max(data))\n",
    "    print(np.min(data))\n",
    "    # print(data)\n"
   ]
  },
  {
   "cell_type": "code",
   "execution_count": null,
   "metadata": {
    "collapsed": true
   },
   "outputs": [],
   "source": []
  }
 ],
 "metadata": {
  "kernelspec": {
   "display_name": "Python 3",
   "language": "python",
   "name": "python3"
  },
  "language_info": {
   "codemirror_mode": {
    "name": "ipython",
    "version": 3
   },
   "file_extension": ".py",
   "mimetype": "text/x-python",
   "name": "python",
   "nbconvert_exporter": "python",
   "pygments_lexer": "ipython3",
   "version": "3.5.1"
  }
 },
 "nbformat": 4,
 "nbformat_minor": 0
}
